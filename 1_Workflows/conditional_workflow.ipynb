{
 "cells": [
  {
   "cell_type": "markdown",
   "id": "796b9274",
   "metadata": {},
   "source": [
    "## quadratic_equation_workflow"
   ]
  },
  {
   "cell_type": "code",
   "execution_count": 2,
   "id": "5c844cca",
   "metadata": {},
   "outputs": [],
   "source": [
    "from langgraph.graph import StateGraph, END, START\n",
    "from typing import TypedDict, Literal\n",
    "\n",
    "\n",
    "# defining state\n",
    "class QuadState(TypedDict):\n",
    "    a: int\n",
    "    b: int\n",
    "    c: int\n",
    "\n",
    "    equation: str\n",
    "    discriminant: float\n",
    "    result: str\n",
    "\n"
   ]
  },
  {
   "cell_type": "markdown",
   "id": "42481011",
   "metadata": {},
   "source": []
  },
  {
   "cell_type": "code",
   "execution_count": 3,
   "id": "d413ed52",
   "metadata": {},
   "outputs": [],
   "source": [
    "# defining nodes\n",
    "def show_equation(state:QuadState):\n",
    "    equation = f\"{state['a']}x2{state['b']}x{state['c']}\"\n",
    "    return {\"equation\":equation}\n",
    "\n",
    "def calculate_discriminant(state:QuadState):\n",
    "    discriminant = state['b']**2 - (4*state['a']*state[\"c\"]) # b2-4ac\n",
    "    return {\"discriminant\":discriminant}\n",
    "\n",
    "def real_roots(state: QuadState):\n",
    "\n",
    "    root1 = (-state[\"b\"] + state[\"discriminant\"]**0.5)/(2*state[\"a\"]) # -b + underroot of d / 2a\n",
    "    root2 = (-state[\"b\"] - state[\"discriminant\"]**0.5)/(2*state[\"a\"]) # # -b - underroot of d / 2a\n",
    "\n",
    "    result = f'The roots are {root1} and {root2}'\n",
    "\n",
    "    return {'result': result}\n",
    "\n",
    "def repeated_roots(state: QuadState):\n",
    "\n",
    "    root = (-state[\"b\"])/(2*state[\"a\"]) # -b/2a\n",
    "\n",
    "    result = f'Only repeating root is {root}'\n",
    "\n",
    "    return {'result': result}\n",
    "\n",
    "def no_real_roots(state: QuadState):\n",
    "\n",
    "    result = f'No real roots'\n",
    "\n",
    "    return {'result': result}\n",
    "\n",
    "def check_condition(state: QuadState) -> Literal[\"real_roots\", \"repeated_roots\", \"no_real_roots\"]:\n",
    "    if state['discriminant'] > 0:\n",
    "        return \"real_roots\"\n",
    "    elif state['discriminant'] == 0:\n",
    "        return \"repeated_roots\"\n",
    "    else:\n",
    "        return \"no_real_roots\"\n",
    "# \n"
   ]
  },
  {
   "cell_type": "code",
   "execution_count": 4,
   "id": "4a86d867",
   "metadata": {},
   "outputs": [
    {
     "name": "stdout",
     "output_type": "stream",
     "text": [
      "{'a': 4, 'b': -5, 'c': -4, 'equation': '4x2-5x-4', 'discriminant': 89, 'result': 'The roots are 1.8042476415070754 and -0.5542476415070754'}\n"
     ]
    }
   ],
   "source": [
    "# definig graph\n",
    "graph = StateGraph(QuadState)\n",
    "\n",
    "# adding nodes and edges\n",
    "graph.add_node(\"show_equation\", show_equation)\n",
    "graph.add_node(\"calculate_discriminant\", calculate_discriminant)\n",
    "graph.add_node(\"real_roots\", real_roots)\n",
    "graph.add_node(\"repeated_roots\", repeated_roots)\n",
    "graph.add_node(\"no_real_roots\", no_real_roots)\n",
    "\n",
    "graph.add_edge(START,\"show_equation\")\n",
    "graph.add_edge(\"show_equation\",\"calculate_discriminant\")\n",
    "\n",
    "graph.add_conditional_edges(\"calculate_discriminant\", check_condition )\n",
    "graph.add_edge(\"real_roots\", END)\n",
    "graph.add_edge(\"repeated_roots\", END)\n",
    "graph.add_edge(\"no_real_roots\", END)\n",
    "\n",
    "# compile the graph\n",
    "workflow = graph.compile()\n",
    "\n",
    "# exicute the graph\n",
    "state = {\"a\":4,\"b\":-5,\"c\":-4}\n",
    "result = workflow.invoke(state)\n",
    "print(result)"
   ]
  },
  {
   "cell_type": "markdown",
   "id": "18499b4a",
   "metadata": {},
   "source": [
    "## review_reply_workflow"
   ]
  },
  {
   "cell_type": "code",
   "execution_count": 5,
   "id": "fa1b2eae",
   "metadata": {},
   "outputs": [],
   "source": [
    "from langchain_google_genai import ChatGoogleGenerativeAI\n",
    "from langgraph.graph import START, END, StateGraph\n",
    "from pydantic import BaseModel, Field\n",
    "from typing import TypedDict, Annotated, Literal\n",
    "from dotenv import load_dotenv\n",
    "import operator\n",
    "\n",
    "load_dotenv()\n",
    "\n",
    "model = ChatGoogleGenerativeAI(model=\"gemini-1.5-flash\", temperature=0.2)\n",
    "\n",
    "# defing output schema\n",
    "class SentementSchema(BaseModel):\n",
    "    sentiment: Literal[\"positive\", \"negative\"] = Field(description='Sentiment of the review')\n",
    "\n",
    "class DiagnosisSchema(BaseModel):\n",
    "    issue_type: Literal[\"UX\", \"Performance\", \"Bug\", \"Support\", \"Other\"] = Field(description='The category of issue mentioned in the review')\n",
    "    tone: Literal[\"angry\", \"frustrated\", \"disappointed\", \"calm\"] = Field(description='The emotional tone expressed by the user')\n",
    "    urgency: Literal[\"low\", \"medium\", \"high\"] = Field(description='How urgent or critical the issue appears to be')\n",
    "\n",
    "\n",
    "structured_model1 = model.with_structured_output(SentementSchema)\n",
    "structured_model2 = model.with_structured_output(DiagnosisSchema)\n",
    "\n"
   ]
  },
  {
   "cell_type": "code",
   "execution_count": 6,
   "id": "74b0a850",
   "metadata": {},
   "outputs": [
    {
     "data": {
      "text/plain": [
       "'positive'"
      ]
     },
     "execution_count": 6,
     "metadata": {},
     "output_type": "execute_result"
    }
   ],
   "source": [
    "prompt = 'What is the sentiment of the following review - The software too good'\n",
    "structured_model1.invoke(prompt).sentiment"
   ]
  },
  {
   "cell_type": "code",
   "execution_count": 7,
   "id": "c90c5859",
   "metadata": {},
   "outputs": [],
   "source": [
    "# Define state \n",
    "class ReviewState(TypedDict):\n",
    "    review: str\n",
    "    sentiment: Literal[\"positive\", \"negative\"]\n",
    "    diagnosis: dict\n",
    "    response: str\n",
    "\n",
    "# defining nodes\n",
    "def find_sentiment(state: ReviewState):\n",
    "\n",
    "    prompt = f'For the following review find out the sentiment \\n {state[\"review\"]}'\n",
    "    sentiment = structured_model1.invoke(prompt).sentiment\n",
    "\n",
    "    return {'sentiment': sentiment}\n",
    "\n",
    "def positive_response(state: ReviewState):\n",
    "    prompt = f\"\"\"Write a warm thank-you message in response to this review:\n",
    "    \\n\\n\\\"{state['review']}\\\"\\n\n",
    "Also, kindly ask the user to leave feedback on our website.\"\"\"\n",
    "    \n",
    "    response = model.invoke(prompt).content\n",
    "\n",
    "    return {'response': response}\n",
    "\n",
    "def run_diagnosis(state: ReviewState):\n",
    "    prompt = f\"\"\"Diagnose this negative review:\\n\\n{state['review']}\\n\"\n",
    "    \"Return issue_type, tone, and urgency.\n",
    "\"\"\"\n",
    "    response = structured_model2.invoke(prompt)\n",
    "\n",
    "    return {'diagnosis': response.model_dump()}\n",
    "\n",
    "def negative_response(state: ReviewState):\n",
    "    diagnosis = state['diagnosis']\n",
    "\n",
    "    prompt = f\"\"\"You are a support assistant.\n",
    "The user had a '{diagnosis['issue_type']}' issue, sounded '{diagnosis['tone']}', and marked urgency as '{diagnosis['urgency']}'.\n",
    "Write an empathetic, helpful resolution message.\n",
    "\"\"\"\n",
    "    response = model.invoke(prompt).content\n",
    "\n",
    "    return {'response': response}\n",
    "\n",
    "def check_sentiment(state: ReviewState) -> Literal[\"positive_response\", \"run_diagnosis\"]:\n",
    "\n",
    "    if state['sentiment'] == 'positive':\n",
    "        return 'positive_response'\n",
    "    else:\n",
    "        return 'run_diagnosis'\n",
    "\n"
   ]
  },
  {
   "cell_type": "code",
   "execution_count": 8,
   "id": "452fb8ee",
   "metadata": {},
   "outputs": [
    {
     "name": "stdout",
     "output_type": "stream",
     "text": [
      "{'review': 'I’ve been trying to log in for over an hour now, and the app keeps freezing on the authentication screen. I even tried reinstalling it, but no luck. This kind of bug is unacceptable, especially when it affects basic functionality.', 'sentiment': 'negative', 'diagnosis': {'issue_type': 'Bug', 'tone': 'frustrated', 'urgency': 'high'}, 'response': \"Subject: Re: Urgent - Bug Report - [Original Subject Line]\\n\\nHi [User Name],\\n\\nI'm so sorry to hear you're experiencing this issue and that it's causing you frustration. I understand how urgent this is, and I want to assure you I'll do everything I can to help resolve it quickly.\\n\\nCould you please provide me with a little more information?  The more details you can give me, the better I can understand the problem and find a solution.  Specifically, it would be helpful if you could tell me:\\n\\n* **What steps were you taking when the bug occurred?**  A step-by-step description would be ideal.\\n* **What exactly happened?**  Please describe the error message (if any) or the unexpected behavior you encountered.\\n* **What version of [Software/Application Name] are you using?**\\n* **What operating system are you using?** (e.g., Windows 10, macOS Monterey, iOS 16)\\n* **If possible, could you share a screenshot or screen recording of the issue?** This will help me visualize the problem.\\n\\nOnce I have this information, I can start troubleshooting the problem.  I'll keep you updated on my progress and will get back to you as soon as possible.\\n\\nThanks for your patience and understanding.\\n\\nSincerely,\\n\\n[Your Name]\\nSupport Assistant\"}\n"
     ]
    }
   ],
   "source": [
    "# defining the graph\n",
    "graph = StateGraph(ReviewState)\n",
    "\n",
    "# adding nodes and edges\n",
    "graph.add_node(\"find_sentiment\", find_sentiment)\n",
    "graph.add_node(\"positive_response\", positive_response)\n",
    "graph.add_node(\"run_diagnosis\", run_diagnosis)\n",
    "graph.add_node(\"negative_response\", negative_response)\n",
    "\n",
    "graph.add_edge(START, \"find_sentiment\")\n",
    "graph.add_conditional_edges(\"find_sentiment\", check_sentiment)\n",
    "\n",
    "graph.add_edge(\"run_diagnosis\", \"negative_response\")\n",
    "graph.add_edge(\"negative_response\", END)\n",
    "graph.add_edge(\"positive_response\", END)\n",
    "\n",
    "# compile the graph\n",
    "workflow = graph.compile()\n",
    "\n",
    "# exicue the graph\n",
    "state = {'review': \"I’ve been trying to log in for over an hour now, and the app keeps freezing on the authentication screen. I even tried reinstalling it, but no luck. This kind of bug is unacceptable, especially when it affects basic functionality.\"}\n",
    "result = workflow.invoke(state)\n",
    "print(result)\n",
    "\n",
    "\n",
    "\n"
   ]
  }
 ],
 "metadata": {
  "kernelspec": {
   "display_name": "venv (3.12.9)",
   "language": "python",
   "name": "python3"
  },
  "language_info": {
   "codemirror_mode": {
    "name": "ipython",
    "version": 3
   },
   "file_extension": ".py",
   "mimetype": "text/x-python",
   "name": "python",
   "nbconvert_exporter": "python",
   "pygments_lexer": "ipython3",
   "version": "3.12.9"
  }
 },
 "nbformat": 4,
 "nbformat_minor": 5
}
