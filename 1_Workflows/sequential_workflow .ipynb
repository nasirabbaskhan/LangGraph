{
 "cells": [
  {
   "cell_type": "code",
   "execution_count": 40,
   "id": "0b0d0b13",
   "metadata": {},
   "outputs": [
    {
     "name": "stdout",
     "output_type": "stream",
     "text": [
      "workflows\n"
     ]
    }
   ],
   "source": [
    "print(\"workflows\")"
   ]
  },
  {
   "cell_type": "markdown",
   "id": "dd1a425d",
   "metadata": {},
   "source": [
    "#  Sequential Workflows in LangGraph"
   ]
  },
  {
   "cell_type": "markdown",
   "id": "4a9b0721",
   "metadata": {},
   "source": [
    "## 1_calculate_bmi workflow"
   ]
  },
  {
   "cell_type": "code",
   "execution_count": 41,
   "id": "8bf4a2cf",
   "metadata": {},
   "outputs": [],
   "source": [
    "from langgraph.graph import StateGraph, START, END\n",
    "from typing import TypedDict\n"
   ]
  },
  {
   "cell_type": "code",
   "execution_count": 42,
   "id": "bfec5309",
   "metadata": {},
   "outputs": [],
   "source": [
    "# defining state\n",
    "class BMIState(TypedDict):\n",
    "    weight_kg:float\n",
    "    height_m:float\n",
    "    bmi: float\n",
    "    category: str\n",
    "    "
   ]
  },
  {
   "cell_type": "code",
   "execution_count": 43,
   "id": "4c422bb6",
   "metadata": {},
   "outputs": [],
   "source": [
    "# defining nodes\n",
    "def calculate_bmi(state: BMIState)-> BMIState:\n",
    "    weight = state[\"weight_kg\"]\n",
    "    height = state[\"height_m\"]\n",
    "    print(\"calculation of mbi is done\")\n",
    "    bmi = weight/(height**2)\n",
    "    state[\"bmi\"] = round(bmi, 2)\n",
    "    return state\n"
   ]
  },
  {
   "cell_type": "code",
   "execution_count": 44,
   "id": "6e26e892",
   "metadata": {},
   "outputs": [],
   "source": [
    "def label_bmi(state: BMIState) -> BMIState:\n",
    "\n",
    "    bmi = state['bmi']\n",
    "\n",
    "    if bmi < 18.5:\n",
    "        state[\"category\"] = \"Underweight\"\n",
    "    elif 18.5 <= bmi < 25:\n",
    "        state[\"category\"] = \"Normal\"\n",
    "    elif 25 <= bmi < 30:\n",
    "        state[\"category\"] = \"Overweight\"\n",
    "    else:\n",
    "        state[\"category\"] = \"Obese\"\n",
    "\n",
    "    return state\n"
   ]
  },
  {
   "cell_type": "code",
   "execution_count": 45,
   "id": "0f15b4e2",
   "metadata": {},
   "outputs": [],
   "source": [
    "# buid the graph\n",
    "graph = StateGraph(BMIState)"
   ]
  },
  {
   "cell_type": "code",
   "execution_count": 46,
   "id": "afb937e8",
   "metadata": {},
   "outputs": [
    {
     "data": {
      "text/plain": [
       "<langgraph.graph.state.StateGraph at 0x1a780f07500>"
      ]
     },
     "execution_count": 46,
     "metadata": {},
     "output_type": "execute_result"
    }
   ],
   "source": [
    "# adding nodes in graph\n",
    "graph.add_node('calculate_bmi', calculate_bmi)\n",
    "graph.add_node('label_bmi', label_bmi)\n",
    "\n",
    "# adding edges in graph\n",
    "graph.add_edge(START, \"calculate_bmi\")\n",
    "graph.add_edge(\"calculate_bmi\", \"label_bmi\")\n",
    "graph.add_edge(\"label_bmi\", END)"
   ]
  },
  {
   "cell_type": "code",
   "execution_count": 47,
   "id": "a18b95ce",
   "metadata": {},
   "outputs": [],
   "source": [
    "# comile the graph\n",
    "workflow = graph.compile()"
   ]
  },
  {
   "cell_type": "code",
   "execution_count": 49,
   "id": "5a721cc2",
   "metadata": {},
   "outputs": [
    {
     "name": "stdout",
     "output_type": "stream",
     "text": [
      "calculation of mbi is done\n",
      "{'weight_kg': 12.0, 'height_m': 3.0, 'bmi': 1.33, 'category': 'Underweight'}\n"
     ]
    }
   ],
   "source": [
    "weight = float(input(\"Enter Weight in kg: \"))\n",
    "height = float(input(\"Enter height in m: \"))\n",
    "state = { \"weight_kg\": weight,\n",
    "          \"height_m\": height\n",
    "        }\n",
    "\n",
    "result = workflow.invoke(state)\n",
    "\n",
    "print(result)\n",
    "# print(\"calculated bmi: \",result[\"bmi\"])\n",
    "# print(\"category bmi: \",result[\"category\"])\n"
   ]
  },
  {
   "cell_type": "code",
   "execution_count": 50,
   "id": "f7e36c7b",
   "metadata": {},
   "outputs": [
    {
     "data": {
      "image/png": "[encoded data removed]",
      "text/plain": [
       "<IPython.core.display.Image object>"
      ]
     },
     "execution_count": 50,
     "metadata": {},
     "output_type": "execute_result"
    }
   ],
   "source": [
    "from IPython.display import Image\n",
    "Image(workflow.get_graph().draw_mermaid_png())"
   ]
  },
  {
   "cell_type": "markdown",
   "id": "2681b2b8",
   "metadata": {},
   "source": [
    "## 2 simple LLM workflow"
   ]
  },
  {
   "cell_type": "code",
   "execution_count": 51,
   "id": "4592c1c2",
   "metadata": {},
   "outputs": [],
   "source": [
    "from langchain_google_genai import ChatGoogleGenerativeAI\n",
    "from langgraph.graph import START, END, StateGraph\n",
    "from typing import TypedDict\n",
    "from dotenv import load_dotenv\n",
    "\n",
    "load_dotenv()\n",
    "\n",
    "model = ChatGoogleGenerativeAI(model=\"gemini-1.5-flash\", temperature=0.2)\n",
    "\n"
   ]
  },
  {
   "cell_type": "code",
   "execution_count": 52,
   "id": "3cccec18",
   "metadata": {},
   "outputs": [],
   "source": [
    "# defining state\n",
    "class LLMState(TypedDict):\n",
    "    question: str\n",
    "    answer: str\n",
    "\n"
   ]
  },
  {
   "cell_type": "code",
   "execution_count": 53,
   "id": "4c8875d4",
   "metadata": {},
   "outputs": [],
   "source": [
    "# defing llm node\n",
    "def chatbot(state: LLMState) -> LLMState:\n",
    "    # extract the question from state\n",
    "    question = state['question']\n",
    "\n",
    "    # form a prompt\n",
    "    prompt = f'Answer the following question {question}'\n",
    "\n",
    "    # ask that question to the LLM\n",
    "    answer = model.invoke(prompt).content\n",
    "\n",
    "    # update the answer in the state\n",
    "    state['answer'] = answer\n",
    "\n",
    "    return state\n",
    "\n"
   ]
  },
  {
   "cell_type": "code",
   "execution_count": 54,
   "id": "af8dabae",
   "metadata": {},
   "outputs": [],
   "source": [
    "# defining the graph\n",
    "graph = StateGraph(LLMState)\n",
    "\n",
    "# adding nodes\n",
    "graph.add_node(\"chatbot\", chatbot)\n",
    "\n",
    "graph.add_edge(START, \"chatbot\")\n",
    "graph.add_edge(\"chatbot\", END)\n",
    "\n",
    "workflow = graph.compile()\n",
    "\n"
   ]
  },
  {
   "cell_type": "code",
   "execution_count": 55,
   "id": "5c47918f",
   "metadata": {},
   "outputs": [
    {
     "name": "stdout",
     "output_type": "stream",
     "text": [
      "The distance between the Earth and the Moon varies because the Moon's orbit is not a perfect circle.  However, the average distance is approximately **238,855 miles (384,400 kilometers)**.\n"
     ]
    }
   ],
   "source": [
    "# exicute the graph\n",
    "state = {\"question\": \"How far is moon from the earth?\"}\n",
    "result = workflow.invoke(state)\n",
    "\n",
    "print(result[\"answer\"])"
   ]
  },
  {
   "cell_type": "markdown",
   "id": "2cb0153c",
   "metadata": {},
   "source": [
    "## 3 prompt chaining workflow"
   ]
  },
  {
   "cell_type": "code",
   "execution_count": 62,
   "id": "959bccaf",
   "metadata": {},
   "outputs": [],
   "source": [
    "from langchain_google_genai import ChatGoogleGenerativeAI\n",
    "from langgraph.graph import StateGraph, START, END\n",
    "from typing import TypedDict\n",
    "from dotenv import load_dotenv\n",
    "\n",
    "load_dotenv()\n",
    "\n",
    "# create a model\n",
    "model =  ChatGoogleGenerativeAI(model=\"gemini-1.5-flash\", temperature=0.2)\n",
    "\n"
   ]
  },
  {
   "cell_type": "code",
   "execution_count": 63,
   "id": "c1883bab",
   "metadata": {},
   "outputs": [],
   "source": [
    "# defining state \n",
    "class BLOGState(TypedDict):\n",
    "    topic: str\n",
    "    outline : str\n",
    "    blog: str\n",
    "\n",
    "\n"
   ]
  },
  {
   "cell_type": "code",
   "execution_count": 71,
   "id": "90b77f63",
   "metadata": {},
   "outputs": [],
   "source": [
    "# defing node\n",
    "def generate_outline(state: BLOGState) -> BLOGState:\n",
    "\n",
    "    topic = state[\"topic\"]\n",
    "    outline_prompt = f\"Generate a detailed outline for a blog on the topic - {topic}\"\n",
    "    outline = model.invoke(outline_prompt).content\n",
    "    state[\"outline\"] = outline\n",
    "    return state\n",
    "\n",
    "def generate_blog(state: BLOGState) -> BLOGState:\n",
    "\n",
    "    topic = state[\"topic\"]\n",
    "    outline = state[\"outline\"]\n",
    "    prompt = f\"Write a detailed blog on the topic - {topic} using the follwing outline \\n {outline}\"\n",
    "    blog = model.invoke(prompt).content\n",
    "    state[\"blog\"] = blog\n",
    "    return state\n",
    "\n",
    "# defining a graph\n",
    "graph = StateGraph(BLOGState)\n",
    "\n",
    "\n",
    "\n",
    "\n",
    "\n"
   ]
  },
  {
   "cell_type": "code",
   "execution_count": 72,
   "id": "95fb51d4",
   "metadata": {},
   "outputs": [],
   "source": [
    "# Adding Nodes, Edges and compile Graph  \n",
    "graph.add_node(\"generate_outline\", generate_outline)\n",
    "graph.add_node(\"generate_blog\", generate_blog)\n",
    "\n",
    "graph.add_edge(START, \"generate_outline\")\n",
    "graph.add_edge(\"generate_outline\",\"generate_blog\")\n",
    "graph.add_edge(\"generate_blog\", END)\n",
    "\n",
    "workflow = graph.compile()\n",
    "\n"
   ]
  },
  {
   "cell_type": "code",
   "execution_count": 73,
   "id": "8c46db2a",
   "metadata": {},
   "outputs": [
    {
     "name": "stdout",
     "output_type": "stream",
     "text": [
      "{'topic': 'Agentic AI', 'outline': \"## Blog Outline: Agentic AI - The Rise of Autonomous Artificial Intelligence\\n\\n**I. Introduction (approx. 100-150 words)**\\n\\n* **Hook:** Start with a captivating example of AI exhibiting agentic behavior (e.g., a robot navigating a complex environment without explicit instructions, an AI managing a complex system autonomously).\\n* **Define Agentic AI:** Clearly define what agentic AI is, differentiating it from reactive and goal-oriented AI. Emphasize its key characteristic: independent action and decision-making based on its own internal models and goals.\\n* **Brief overview of the blog's content:** Briefly outline the topics that will be covered in the blog post.\\n* **Thesis statement:** State the central argument – e.g.,  Agentic AI represents a significant leap in AI capabilities, presenting both immense opportunities and significant challenges.\\n\\n\\n**II. Understanding the Core Concepts (approx. 200-300 words)**\\n\\n* **Defining Autonomy:** Explore the different levels of autonomy in AI systems, from fully reactive to fully autonomous agents.\\n* **Goal Setting and Planning:** Discuss how agentic AI sets its own goals and plans actions to achieve them.  Mention different planning algorithms (e.g., reinforcement learning, hierarchical planning).\\n* **Internal Models and World Representation:** Explain how agentic AI builds and uses internal models of the world to make decisions and predict outcomes.\\n* **Learning and Adaptation:** Highlight the importance of learning and adaptation in agentic AI, enabling it to improve its performance over time.\\n\\n\\n**III. Examples of Agentic AI in Action (approx. 250-350 words)**\\n\\n* **Robotics:** Showcase examples of robots exhibiting agentic behavior, such as those used in exploration, manufacturing, or healthcare.  Include specific examples and their capabilities.\\n* **Game AI:** Discuss how agentic AI is used in video games to create more realistic and challenging opponents.\\n* **Autonomous Systems:** Provide examples of agentic AI in other domains, such as autonomous driving, resource management, or financial trading.\\n* **Explain the differences in complexity and capabilities across examples.**\\n\\n\\n**IV. The Potential Benefits of Agentic AI (approx. 150-200 words)**\\n\\n* **Increased Efficiency and Productivity:** Discuss how agentic AI can automate complex tasks and improve efficiency in various industries.\\n* **Solving Complex Problems:** Highlight the potential of agentic AI to tackle problems that are too complex for humans to solve alone.\\n* **New Discoveries and Innovations:** Explore how agentic AI could lead to breakthroughs in science, technology, and other fields.\\n* **Improved Decision-Making:** Discuss how agentic AI can assist humans in making better decisions by providing insights and recommendations.\\n\\n\\n**V. The Challenges and Risks of Agentic AI (approx. 200-300 words)**\\n\\n* **Safety and Security:** Discuss the potential risks associated with autonomous systems, such as unintended consequences, malfunctions, and malicious use.\\n* **Ethical Considerations:** Explore the ethical implications of agentic AI, including issues of responsibility, accountability, and bias.\\n* **Job Displacement:** Address the potential impact of agentic AI on employment and the need for workforce adaptation.\\n* **Control and Oversight:** Discuss the challenges of controlling and overseeing highly autonomous systems.\\n\\n\\n**VI. The Future of Agentic AI (approx. 150-200 words)**\\n\\n* **Technological Advancements:** Discuss the ongoing research and development in agentic AI and its potential future directions.\\n* **Societal Impact:** Speculate on the long-term impact of agentic AI on society, economy, and human life.\\n* **Regulation and Governance:** Discuss the need for appropriate regulations and governance frameworks to ensure the responsible development and deployment of agentic AI.\\n* **Call to action:** Encourage readers to engage with the topic further, perhaps by suggesting further reading or participation in relevant discussions.\\n\\n\\n**VII. Conclusion (approx. 50-100 words)**\\n\\n* **Summarize the main points:** Briefly reiterate the key arguments and findings of the blog post.\\n* **Reiterate the importance of Agentic AI:** Emphasize the transformative potential of agentic AI while acknowledging the associated challenges.\\n* **Final thought:** Leave the reader with a thought-provoking statement about the future of agentic AI and its implications for humanity.\\n\\n\\n**VIII.  Call to Action (Optional)**\\n\\n* Encourage readers to share their thoughts in the comments section.\\n* Promote related content on your website or social media.\\n\\n\\nThis outline provides a comprehensive structure for a blog post on Agentic AI.  Remember to use clear and concise language, support your claims with evidence, and engage your readers with compelling examples and visuals.  Adjust the word counts for each section based on your desired blog post length.\", 'blog': \"## Agentic AI: The Rise of Autonomous Artificial Intelligence\\n\\n**I. Introduction**\\n\\nImagine a robot surgeon performing a complex operation with minimal human intervention, adapting its technique in real-time to unforeseen circumstances.  Or picture an AI managing a sprawling power grid, autonomously predicting and preventing outages, optimizing energy distribution across millions of users. These are not scenes from a science fiction movie; they represent the burgeoning reality of agentic AI.  Agentic AI refers to artificial intelligence systems capable of independent action and decision-making, going beyond simply reacting to inputs or following pre-programmed instructions.  Unlike reactive AI, which responds directly to stimuli, or goal-oriented AI, which works towards predefined objectives, agentic AI possesses a degree of autonomy, setting its own goals and devising strategies to achieve them. This blog post will delve into the core concepts of agentic AI, explore its applications, analyze its potential benefits and risks, and consider its future implications for society.  We will argue that agentic AI represents a significant leap in AI capabilities, presenting both immense opportunities and significant challenges that require careful consideration.\\n\\n\\n**II. Understanding the Core Concepts**\\n\\nAutonomy in AI exists on a spectrum.  Fully reactive AI systems, like early chess-playing programs, respond directly to their environment. Goal-oriented AI, such as a self-driving car navigating to a destination, pursues a predefined goal.  Agentic AI occupies the higher end of this spectrum, exhibiting a higher degree of autonomy.  It involves the ability to set its own goals (or at least refine and adapt pre-defined ones), plan actions to achieve those goals, and learn from its experiences.  This requires sophisticated mechanisms for goal setting and planning, often employing reinforcement learning algorithms that allow the AI to learn optimal strategies through trial and error.  Hierarchical planning allows for breaking down complex goals into smaller, manageable sub-goals.\\n\\nCrucially, agentic AI relies on internal models of the world.  These models represent the AI's understanding of its environment, the relationships between objects and events, and the likely consequences of its actions.  This allows the AI to predict outcomes, anticipate challenges, and make informed decisions.  The ability to learn and adapt is paramount.  Agentic AI systems must continuously refine their internal models and strategies based on new information and experiences, ensuring they can handle unexpected situations and improve their performance over time.\\n\\n\\n**III. Examples of Agentic AI in Action**\\n\\nAgentic AI is already making its mark across various domains.  In robotics, we see robots navigating complex, unstructured environments like disaster zones or exploring other planets, adapting their movements based on sensor data and their internal models of the terrain.  Boston Dynamics' robots, for example, demonstrate impressive agility and adaptability.  In the gaming world, agentic AI creates more realistic and challenging opponents, learning player strategies and adapting their tactics accordingly.  Consider the sophisticated AI opponents in games like StarCraft II.\\n\\nAutonomous driving represents another significant application.  Self-driving cars must not only navigate roads but also make complex decisions in real-time, anticipating the actions of other vehicles and pedestrians.  In resource management, agentic AI can optimize energy grids, manage traffic flow, or allocate resources in complex supply chains.  In finance, it can analyze market trends and make autonomous trading decisions.  The complexity and capabilities vary greatly; a robot vacuum cleaner exhibits a lower level of agentic AI compared to a surgical robot or a self-driving car.\\n\\n\\n**IV. The Potential Benefits of Agentic AI**\\n\\nThe potential benefits of agentic AI are vast.  It promises increased efficiency and productivity across numerous industries, automating complex tasks and optimizing processes.  Agentic AI can tackle problems too complex for humans to solve alone, from designing new materials to predicting climate change.  It could lead to breakthroughs in scientific discovery, accelerating research and development in fields like medicine and materials science.  By providing insights and recommendations based on vast datasets, agentic AI can improve human decision-making in areas like healthcare, finance, and public policy.\\n\\n\\n**V. The Challenges and Risks of Agentic AI**\\n\\nDespite its potential, agentic AI presents significant challenges and risks.  Safety and security are paramount concerns.  Malfunctions or unintended consequences in autonomous systems could have catastrophic results, particularly in critical infrastructure or healthcare.  Ethical considerations are crucial.  Questions of responsibility and accountability arise when autonomous systems make decisions with potentially significant impacts.  Bias in training data can lead to discriminatory outcomes, perpetuating existing societal inequalities.  Job displacement is another concern, requiring proactive measures to adapt the workforce and ensure a just transition.  Controlling and overseeing highly autonomous systems presents a significant challenge, requiring robust monitoring and control mechanisms.\\n\\n\\n**VI. The Future of Agentic AI**\\n\\nResearch and development in agentic AI are rapidly advancing, pushing the boundaries of autonomy and intelligence.  We can expect to see more sophisticated systems capable of handling increasingly complex tasks and adapting to more dynamic environments.  The long-term societal impact will be profound, transforming industries, economies, and human life.  However, responsible development and deployment are crucial.  Robust regulatory frameworks and ethical guidelines are needed to ensure that agentic AI is used for the benefit of humanity, mitigating risks and addressing ethical concerns.  We need open discussions and collaborative efforts to shape the future of agentic AI in a way that benefits all of society.  This requires ongoing dialogue between researchers, policymakers, and the public.\\n\\n\\n**VII. Conclusion**\\n\\nAgentic AI represents a transformative technology with the potential to revolutionize numerous aspects of our lives.  Its ability to act autonomously and make decisions opens up exciting possibilities for increased efficiency, problem-solving, and innovation.  However, we must proceed cautiously, addressing the ethical, safety, and societal challenges it presents.  The future of agentic AI depends on our ability to develop and deploy it responsibly, ensuring its benefits are shared widely while mitigating its risks.  The journey ahead requires careful navigation, collaboration, and a commitment to ethical principles.\\n\\n\\n**VIII. Call to Action**\\n\\nWhat are your thoughts on the future of agentic AI? Share your perspectives and concerns in the comments below.  Let's continue this important conversation together.\"}\n"
     ]
    }
   ],
   "source": [
    "# exicurte the graph\n",
    "state = {\"topic\": \"Agentic AI\"}\n",
    "\n",
    "result = workflow.invoke(state)\n",
    "\n",
    "print(result)"
   ]
  },
  {
   "cell_type": "code",
   "execution_count": 74,
   "id": "8c65d856",
   "metadata": {},
   "outputs": [
    {
     "name": "stdout",
     "output_type": "stream",
     "text": [
      "## Agentic AI: The Rise of Autonomous Artificial Intelligence\n",
      "\n",
      "**I. Introduction**\n",
      "\n",
      "Imagine a robot surgeon performing a complex operation with minimal human intervention, adapting its technique in real-time to unforeseen circumstances.  Or picture an AI managing a sprawling power grid, autonomously predicting and preventing outages, optimizing energy distribution across millions of users. These are not scenes from a science fiction movie; they represent the burgeoning reality of agentic AI.  Agentic AI refers to artificial intelligence systems capable of independent action and decision-making, going beyond simply reacting to inputs or following pre-programmed instructions.  Unlike reactive AI, which responds directly to stimuli, or goal-oriented AI, which works towards predefined objectives, agentic AI possesses a degree of autonomy, setting its own goals and devising strategies to achieve them. This blog post will delve into the core concepts of agentic AI, explore its applications, analyze its potential benefits and risks, and consider its future implications for society.  We will argue that agentic AI represents a significant leap in AI capabilities, presenting both immense opportunities and significant challenges that require careful consideration.\n",
      "\n",
      "\n",
      "**II. Understanding the Core Concepts**\n",
      "\n",
      "Autonomy in AI exists on a spectrum.  Fully reactive AI systems, like early chess-playing programs, respond directly to their environment. Goal-oriented AI, such as a self-driving car navigating to a destination, pursues a predefined goal.  Agentic AI occupies the higher end of this spectrum, exhibiting a higher degree of autonomy.  It involves the ability to set its own goals (or at least refine and adapt pre-defined ones), plan actions to achieve those goals, and learn from its experiences.  This requires sophisticated mechanisms for goal setting and planning, often employing reinforcement learning algorithms that allow the AI to learn optimal strategies through trial and error.  Hierarchical planning allows for breaking down complex goals into smaller, manageable sub-goals.\n",
      "\n",
      "Crucially, agentic AI relies on internal models of the world.  These models represent the AI's understanding of its environment, the relationships between objects and events, and the likely consequences of its actions.  This allows the AI to predict outcomes, anticipate challenges, and make informed decisions.  The ability to learn and adapt is paramount.  Agentic AI systems must continuously refine their internal models and strategies based on new information and experiences, ensuring they can handle unexpected situations and improve their performance over time.\n",
      "\n",
      "\n",
      "**III. Examples of Agentic AI in Action**\n",
      "\n",
      "Agentic AI is already making its mark across various domains.  In robotics, we see robots navigating complex, unstructured environments like disaster zones or exploring other planets, adapting their movements based on sensor data and their internal models of the terrain.  Boston Dynamics' robots, for example, demonstrate impressive agility and adaptability.  In the gaming world, agentic AI creates more realistic and challenging opponents, learning player strategies and adapting their tactics accordingly.  Consider the sophisticated AI opponents in games like StarCraft II.\n",
      "\n",
      "Autonomous driving represents another significant application.  Self-driving cars must not only navigate roads but also make complex decisions in real-time, anticipating the actions of other vehicles and pedestrians.  In resource management, agentic AI can optimize energy grids, manage traffic flow, or allocate resources in complex supply chains.  In finance, it can analyze market trends and make autonomous trading decisions.  The complexity and capabilities vary greatly; a robot vacuum cleaner exhibits a lower level of agentic AI compared to a surgical robot or a self-driving car.\n",
      "\n",
      "\n",
      "**IV. The Potential Benefits of Agentic AI**\n",
      "\n",
      "The potential benefits of agentic AI are vast.  It promises increased efficiency and productivity across numerous industries, automating complex tasks and optimizing processes.  Agentic AI can tackle problems too complex for humans to solve alone, from designing new materials to predicting climate change.  It could lead to breakthroughs in scientific discovery, accelerating research and development in fields like medicine and materials science.  By providing insights and recommendations based on vast datasets, agentic AI can improve human decision-making in areas like healthcare, finance, and public policy.\n",
      "\n",
      "\n",
      "**V. The Challenges and Risks of Agentic AI**\n",
      "\n",
      "Despite its potential, agentic AI presents significant challenges and risks.  Safety and security are paramount concerns.  Malfunctions or unintended consequences in autonomous systems could have catastrophic results, particularly in critical infrastructure or healthcare.  Ethical considerations are crucial.  Questions of responsibility and accountability arise when autonomous systems make decisions with potentially significant impacts.  Bias in training data can lead to discriminatory outcomes, perpetuating existing societal inequalities.  Job displacement is another concern, requiring proactive measures to adapt the workforce and ensure a just transition.  Controlling and overseeing highly autonomous systems presents a significant challenge, requiring robust monitoring and control mechanisms.\n",
      "\n",
      "\n",
      "**VI. The Future of Agentic AI**\n",
      "\n",
      "Research and development in agentic AI are rapidly advancing, pushing the boundaries of autonomy and intelligence.  We can expect to see more sophisticated systems capable of handling increasingly complex tasks and adapting to more dynamic environments.  The long-term societal impact will be profound, transforming industries, economies, and human life.  However, responsible development and deployment are crucial.  Robust regulatory frameworks and ethical guidelines are needed to ensure that agentic AI is used for the benefit of humanity, mitigating risks and addressing ethical concerns.  We need open discussions and collaborative efforts to shape the future of agentic AI in a way that benefits all of society.  This requires ongoing dialogue between researchers, policymakers, and the public.\n",
      "\n",
      "\n",
      "**VII. Conclusion**\n",
      "\n",
      "Agentic AI represents a transformative technology with the potential to revolutionize numerous aspects of our lives.  Its ability to act autonomously and make decisions opens up exciting possibilities for increased efficiency, problem-solving, and innovation.  However, we must proceed cautiously, addressing the ethical, safety, and societal challenges it presents.  The future of agentic AI depends on our ability to develop and deploy it responsibly, ensuring its benefits are shared widely while mitigating its risks.  The journey ahead requires careful navigation, collaboration, and a commitment to ethical principles.\n",
      "\n",
      "\n",
      "**VIII. Call to Action**\n",
      "\n",
      "What are your thoughts on the future of agentic AI? Share your perspectives and concerns in the comments below.  Let's continue this important conversation together.\n"
     ]
    }
   ],
   "source": [
    "print(result[\"blog\"])"
   ]
  },
  {
   "cell_type": "markdown",
   "id": "483e9898",
   "metadata": {},
   "source": []
  }
 ],
 "metadata": {
  "kernelspec": {
   "display_name": "venv (3.12.9)",
   "language": "python",
   "name": "python3"
  },
  "language_info": {
   "codemirror_mode": {
    "name": "ipython",
    "version": 3
   },
   "file_extension": ".py",
   "mimetype": "text/x-python",
   "name": "python",
   "nbconvert_exporter": "python",
   "pygments_lexer": "ipython3",
   "version": "3.12.9"
  }
 },
 "nbformat": 4,
 "nbformat_minor": 5
}
